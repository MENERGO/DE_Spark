{
 "cells": [
  {
   "cell_type": "code",
   "execution_count": 1,
   "metadata": {
    "collapsed": false,
    "jupyter": {
     "outputs_hidden": false
    },
    "pycharm": {
     "name": "#%%\n"
    }
   },
   "outputs": [
    {
     "name": "stderr",
     "output_type": "stream",
     "text": [
      "22/12/13 11:26:21 WARN NativeCodeLoader: Unable to load native-hadoop library for your platform... using builtin-java classes where applicable\n",
      "Using Spark's default log4j profile: org/apache/spark/log4j-defaults.properties\n",
      "Setting default log level to \"WARN\".\n",
      "To adjust logging level use sc.setLogLevel(newLevel). For SparkR, use setLogLevel(newLevel).\n"
     ]
    },
    {
     "name": "stdout",
     "output_type": "stream",
     "text": [
      "Запущен Spark версии 3.0.0\n"
     ]
    }
   ],
   "source": [
    "from pyspark.sql import SparkSession\n",
    "from pyspark import SparkConf, SparkContext\n",
    "\n",
    "import pyspark.sql.types as T\n",
    "import pyspark.sql.functions as F\n",
    "\n",
    "from datetime import datetime\n",
    "\n",
    "conf = SparkConf()\n",
    "conf.setMaster(\"local\").setAppName('My app')\n",
    "\n",
    "sc = SparkContext.getOrCreate(conf=conf)\n",
    "spark = SparkSession(sc)\n",
    "\n",
    "\n",
    "print('Запущен Spark версии', spark.version)"
   ]
  },
  {
   "cell_type": "markdown",
   "metadata": {},
   "source": [
    "# Создайте схему будущего фрейма данных. Схема должна включать следующие атрибуты:\n",
    "* id -  уникальный идентификатор посетителя сайта. Тип – последовательность чисел фиксированной длины. Данное поле не является первичным ключом.\n",
    "* timestamp – дата и время события в формате unix timestamp.\n",
    "* type – тип события, значение из списка (факт посещения(visit), клик по визуальному элементу страницы(click), скролл(scroll), перед на другую страницу(move)).\n",
    "* page_id – id текущей страницы. Тип - последовательность чисел фиксированной длины.\n",
    "* tag – каждая страница с новостью размечается редакцией специальными тегами, которые отражают тематику конкретной новости со страницы. Возможный список тематик: политика, спорт, медицина и т.д.\n",
    "* sign – наличие у пользователя личного кабинета. Значения – True/False."
   ]
  },
  {
   "cell_type": "code",
   "execution_count": 2,
   "metadata": {
    "collapsed": false,
    "jupyter": {
     "outputs_hidden": false
    },
    "pycharm": {
     "name": "#%%\n"
    }
   },
   "outputs": [],
   "source": [
    "data_schema = T.StructType([\n",
    "    T.StructField('id', T.IntegerType(), True),\n",
    "    T.StructField('timestamp', T.IntegerType(), True),\n",
    "    T.StructField('type', T.StringType(), True),\n",
    "    T.StructField('page_id', T.IntegerType(), True),\n",
    "    T.StructField('tag', T.StringType(), True),\n",
    "    T.StructField('sign', T.BooleanType(), True)\n",
    "])"
   ]
  },
  {
   "cell_type": "markdown",
   "metadata": {},
   "source": [
    "# Создайте датафрейм с описанной выше схемой данных и наполните датафрейм данными"
   ]
  },
  {
   "cell_type": "code",
   "execution_count": 3,
   "metadata": {},
   "outputs": [],
   "source": [
    "data_row = [(12345, 1667627426, 'click', 101, 'Sport', False),\n",
    "            (12346, 1667627328, 'scroll', 101, 'Sport', True),\n",
    "            (12347, 1657627426, 'move', 101, 'Sport', False), \n",
    "            (12348, 1666627426, 'visit', 101, 'Sport', True), \n",
    "            (12349, 1667527426, 'click', 102, 'News', True),\n",
    "            (12350, 1667617426, 'scroll', 102, 'News', False),\n",
    "            (12351, 1667626426, 'move', 103, 'Music', False),\n",
    "            (12352, 1667627326, 'visit', 103, 'Music', True),\n",
    "            (12353, 1667628426, 'click', 104, 'Medicine', False),\n",
    "            (12354, 1667637426, 'scroll', 104, 'Medicine', True),\n",
    "            (12348, 1668627426, 'move', 105, 'Science', False),\n",
    "            (12345, 1677627426, 'visit', 106, 'Science', True),\n",
    "            (12346, 1567627326, 'scroll', 101, 'Sport', True),\n",
    "            (12347, 1657627526, 'visit', 101, 'Sport', False), \n",
    "            (12348, 1666627626, 'move', 101, 'Sport', True), \n",
    "            (12349, 1667527726, 'scroll', 102, 'News', True),\n",
    "            (12350, 1667617826, 'click', 102, 'News', False),\n",
    "            (12351, 1637626926, 'visit', 103, 'Music', False),\n",
    "            (12352, 1663625326, 'move', 103, 'Music', True),\n",
    "            (12353, 1663648426, 'scroll', 104, 'Medicine', False),\n",
    "            (12348, 1667337426, 'click', 104, 'Medicine', True),\n",
    "            (12353, 1664624426, 'click', 105, 'Science', False),\n",
    "            (12356, 1673629426, 'click', 106, 'Science', True)\n",
    "           ]"
   ]
  },
  {
   "cell_type": "code",
   "execution_count": 4,
   "metadata": {},
   "outputs": [],
   "source": [
    "data = spark.createDataFrame(data=data_row,schema=data_schema)"
   ]
  },
  {
   "cell_type": "code",
   "execution_count": 5,
   "metadata": {},
   "outputs": [],
   "source": [
    "data = data.select(*[i for i in data.columns],\n",
    "                 F.from_unixtime(\"timestamp\").alias(\"time_ymd\"))"
   ]
  },
  {
   "cell_type": "code",
   "execution_count": 6,
   "metadata": {},
   "outputs": [
    {
     "name": "stdout",
     "output_type": "stream",
     "text": [
      "+-----+----------+------+-------+--------+-----+-------------------+\n",
      "|   id| timestamp|  type|page_id|     tag| sign|           time_ymd|\n",
      "+-----+----------+------+-------+--------+-----+-------------------+\n",
      "|12345|1667627426| click|    101|   Sport|false|2022-11-05 05:50:26|\n",
      "|12346|1667627328|scroll|    101|   Sport| true|2022-11-05 05:48:48|\n",
      "|12347|1657627426|  move|    101|   Sport|false|2022-07-12 12:03:46|\n",
      "|12348|1666627426| visit|    101|   Sport| true|2022-10-24 16:03:46|\n",
      "|12349|1667527426| click|    102|    News| true|2022-11-04 02:03:46|\n",
      "|12350|1667617426|scroll|    102|    News|false|2022-11-05 03:03:46|\n",
      "|12351|1667626426|  move|    103|   Music|false|2022-11-05 05:33:46|\n",
      "|12352|1667627326| visit|    103|   Music| true|2022-11-05 05:48:46|\n",
      "|12353|1667628426| click|    104|Medicine|false|2022-11-05 06:07:06|\n",
      "|12354|1667637426|scroll|    104|Medicine| true|2022-11-05 08:37:06|\n",
      "|12348|1668627426|  move|    105| Science|false|2022-11-16 19:37:06|\n",
      "|12345|1677627426| visit|    106| Science| true|2023-02-28 23:37:06|\n",
      "|12346|1567627326|scroll|    101|   Sport| true|2019-09-04 20:02:06|\n",
      "|12347|1657627526| visit|    101|   Sport|false|2022-07-12 12:05:26|\n",
      "|12348|1666627626|  move|    101|   Sport| true|2022-10-24 16:07:06|\n",
      "|12349|1667527726|scroll|    102|    News| true|2022-11-04 02:08:46|\n",
      "|12350|1667617826| click|    102|    News|false|2022-11-05 03:10:26|\n",
      "|12351|1637626926| visit|    103|   Music|false|2021-11-23 00:22:06|\n",
      "|12352|1663625326|  move|    103|   Music| true|2022-09-19 22:08:46|\n",
      "|12353|1663648426|scroll|    104|Medicine|false|2022-09-20 04:33:46|\n",
      "|12348|1667337426| click|    104|Medicine| true|2022-11-01 21:17:06|\n",
      "|12353|1664624426| click|    105| Science|false|2022-10-01 11:40:26|\n",
      "|12356|1673629426| click|    106| Science| true|2023-01-13 17:03:46|\n",
      "+-----+----------+------+-------+--------+-----+-------------------+\n",
      "\n"
     ]
    },
    {
     "name": "stderr",
     "output_type": "stream",
     "text": [
      "                                                                                \r"
     ]
    }
   ],
   "source": [
    "data.show(50)"
   ]
  },
  {
   "cell_type": "markdown",
   "metadata": {},
   "source": [
    "# Решите следующие задачи:"
   ]
  },
  {
   "cell_type": "markdown",
   "metadata": {},
   "source": [
    "##  Вывести топ-5 самых активных посетителей сайта"
   ]
  },
  {
   "cell_type": "code",
   "execution_count": 7,
   "metadata": {},
   "outputs": [
    {
     "name": "stderr",
     "output_type": "stream",
     "text": [
      "[Stage 2:===================================>                   (128 + 2) / 200]\r"
     ]
    },
    {
     "name": "stdout",
     "output_type": "stream",
     "text": [
      "+-----+-----+\n",
      "|   id|count|\n",
      "+-----+-----+\n",
      "|12348|    4|\n",
      "|12353|    3|\n",
      "|12347|    2|\n",
      "|12349|    2|\n",
      "|12346|    2|\n",
      "+-----+-----+\n",
      "only showing top 5 rows\n",
      "\n"
     ]
    },
    {
     "name": "stderr",
     "output_type": "stream",
     "text": [
      "                                                                                \r"
     ]
    }
   ],
   "source": [
    "data.groupby(\"id\").count().orderBy(\"count\",ascending=False).show(5)"
   ]
  },
  {
   "cell_type": "markdown",
   "metadata": {},
   "source": [
    "## Посчитать процент посетителей, у которых есть ЛК"
   ]
  },
  {
   "cell_type": "code",
   "execution_count": 8,
   "metadata": {},
   "outputs": [
    {
     "data": {
      "text/plain": [
       "0.5217391304347826"
      ]
     },
     "execution_count": 8,
     "metadata": {},
     "output_type": "execute_result"
    }
   ],
   "source": [
    "1-(data.count() - data.filter(data.sign==True).count())/data.count()"
   ]
  },
  {
   "cell_type": "code",
   "execution_count": 9,
   "metadata": {},
   "outputs": [
    {
     "data": {
      "text/plain": [
       "52.17391304347826"
      ]
     },
     "execution_count": 9,
     "metadata": {},
     "output_type": "execute_result"
    }
   ],
   "source": [
    "data.filter(data.sign==True).count()/data.count()*100"
   ]
  },
  {
   "cell_type": "markdown",
   "metadata": {},
   "source": [
    " ## Вывести топ-5 страниц сайта по показателю общего кол-ва кликов на данной странице"
   ]
  },
  {
   "cell_type": "code",
   "execution_count": 10,
   "metadata": {},
   "outputs": [
    {
     "name": "stdout",
     "output_type": "stream",
     "text": [
      "+-------+-----+\n",
      "|page_id|count|\n",
      "+-------+-----+\n",
      "|    102|    2|\n",
      "|    104|    2|\n",
      "|    101|    1|\n",
      "|    106|    1|\n",
      "|    105|    1|\n",
      "+-------+-----+\n",
      "\n"
     ]
    }
   ],
   "source": [
    "data.filter(data.type==\"click\").groupBy(\"page_id\").count().orderBy(\"count\",ascending=False).show(5)"
   ]
  },
  {
   "cell_type": "markdown",
   "metadata": {},
   "source": [
    "## Добавьте столбец к фрейму данных со значением временного диапазона в рамках суток с размером окна – 4 часа(0-4, 4-8, 8-12 и т.д.)"
   ]
  },
  {
   "cell_type": "code",
   "execution_count": 11,
   "metadata": {},
   "outputs": [
    {
     "name": "stdout",
     "output_type": "stream",
     "text": [
      "+-----+----------+------+-------+--------+-----+-------------------+-------------+\n",
      "|   id| timestamp|  type|page_id|     tag| sign|           time_ymd|time_category|\n",
      "+-----+----------+------+-------+--------+-----+-------------------+-------------+\n",
      "|12345|1667627426| click|    101|   Sport|false|2022-11-05 05:50:26|            1|\n",
      "|12346|1667627328|scroll|    101|   Sport| true|2022-11-05 05:48:48|            1|\n",
      "|12347|1657627426|  move|    101|   Sport|false|2022-07-12 12:03:46|            3|\n",
      "|12348|1666627426| visit|    101|   Sport| true|2022-10-24 16:03:46|            4|\n",
      "|12349|1667527426| click|    102|    News| true|2022-11-04 02:03:46|            0|\n",
      "|12350|1667617426|scroll|    102|    News|false|2022-11-05 03:03:46|            0|\n",
      "|12351|1667626426|  move|    103|   Music|false|2022-11-05 05:33:46|            1|\n",
      "|12352|1667627326| visit|    103|   Music| true|2022-11-05 05:48:46|            1|\n",
      "|12353|1667628426| click|    104|Medicine|false|2022-11-05 06:07:06|            1|\n",
      "|12354|1667637426|scroll|    104|Medicine| true|2022-11-05 08:37:06|            2|\n",
      "|12348|1668627426|  move|    105| Science|false|2022-11-16 19:37:06|            4|\n",
      "|12345|1677627426| visit|    106| Science| true|2023-02-28 23:37:06|            5|\n",
      "|12346|1567627326|scroll|    101|   Sport| true|2019-09-04 20:02:06|            5|\n",
      "|12347|1657627526| visit|    101|   Sport|false|2022-07-12 12:05:26|            3|\n",
      "|12348|1666627626|  move|    101|   Sport| true|2022-10-24 16:07:06|            4|\n",
      "|12349|1667527726|scroll|    102|    News| true|2022-11-04 02:08:46|            0|\n",
      "|12350|1667617826| click|    102|    News|false|2022-11-05 03:10:26|            0|\n",
      "|12351|1637626926| visit|    103|   Music|false|2021-11-23 00:22:06|            0|\n",
      "|12352|1663625326|  move|    103|   Music| true|2022-09-19 22:08:46|            5|\n",
      "|12353|1663648426|scroll|    104|Medicine|false|2022-09-20 04:33:46|            1|\n",
      "|12348|1667337426| click|    104|Medicine| true|2022-11-01 21:17:06|            5|\n",
      "|12353|1664624426| click|    105| Science|false|2022-10-01 11:40:26|            2|\n",
      "|12356|1673629426| click|    106| Science| true|2023-01-13 17:03:46|            4|\n",
      "+-----+----------+------+-------+--------+-----+-------------------+-------------+\n",
      "\n"
     ]
    }
   ],
   "source": [
    "data = data.withColumn(\"time_category\",F.floor(F.hour(\"time_ymd\") / F.lit(4)))\n",
    "data.show(50)"
   ]
  },
  {
   "cell_type": "markdown",
   "metadata": {},
   "source": [
    "## Выведите временной промежуток на основе предыдущего задания, в течение которого было больше всего активностей на сайте."
   ]
  },
  {
   "cell_type": "code",
   "execution_count": 12,
   "metadata": {},
   "outputs": [
    {
     "data": {
      "text/plain": [
       "Row(time_category=1, count=6)"
      ]
     },
     "execution_count": 12,
     "metadata": {},
     "output_type": "execute_result"
    }
   ],
   "source": [
    "data.groupby(\"time_category\").count().orderBy(\"count\",ascending=False).first()"
   ]
  },
  {
   "cell_type": "markdown",
   "metadata": {},
   "source": [
    "##  Создайте второй фрейм данных, который будет содержать информацию о ЛК посетителя сайта со следующим списком атрибутов\n",
    "\n",
    "1. Id – уникальный идентификатор личного кабинета\n",
    "2. User_id – уникальный идентификатор посетителя\n",
    "3. ФИО посетителя\n",
    "4. Дату рождения посетителя \n",
    "5. Дата создания ЛК\n",
    "\n",
    "Вывести фамилии посетителей, которые читали хотя бы одну новость про спорт."
   ]
  },
  {
   "cell_type": "code",
   "execution_count": 13,
   "metadata": {},
   "outputs": [],
   "source": [
    "data_schema_2 = T.StructType([\n",
    "    T.StructField(\"id\", T.IntegerType(),True),\n",
    "    T.StructField(\"user_id\", T.IntegerType(),True),\n",
    "    T.StructField(\"name\", T.StringType(),True),\n",
    "    T.StructField(\"birthday\", T.DateType(),True),\n",
    "    T.StructField(\"data_create\", T.DateType(),True),\n",
    "])"
   ]
  },
  {
   "cell_type": "code",
   "execution_count": 14,
   "metadata": {},
   "outputs": [],
   "source": [
    "data_row_2 = [\n",
    "    (1, 12348, 'Иванов Иван Иванович', datetime.strptime(\"1970-01-01\", \"%Y-%m-%d\"),datetime.strptime(\"2022-10-15\", \"%Y-%m-%d\")),\n",
    "    (2, 12353, 'Петров Петр Петрович', datetime.strptime(\"1980-02-02\", \"%Y-%m-%d\"),datetime.strptime(\"2022-10-15\", \"%Y-%m-%d\")),\n",
    "    (3, 12347, 'Семенов Семен Семенович', datetime.strptime(\"1990-03-13\", \"%Y-%m-%d\"),datetime.strptime(\"2022-10-16\", \"%Y-%m-%d\"))\n",
    "]"
   ]
  },
  {
   "cell_type": "code",
   "execution_count": 15,
   "metadata": {},
   "outputs": [
    {
     "name": "stdout",
     "output_type": "stream",
     "text": [
      "+---+-------+--------------------+----------+-----------+\n",
      "| id|user_id|                name|  birthday|data_create|\n",
      "+---+-------+--------------------+----------+-----------+\n",
      "|  1|  12348|Иванов Иван Иванович|1970-01-01| 2022-10-15|\n",
      "|  2|  12353|Петров Петр Петрович|1980-02-02| 2022-10-15|\n",
      "|  3|  12347|Семенов Семен Сем...|1990-03-13| 2022-10-16|\n",
      "+---+-------+--------------------+----------+-----------+\n",
      "\n"
     ]
    }
   ],
   "source": [
    "data_pc = spark.createDataFrame(data = data_row_2, schema = data_schema_2)\n",
    "data_pc.show(5)"
   ]
  },
  {
   "cell_type": "code",
   "execution_count": null,
   "metadata": {},
   "outputs": [],
   "source": []
  }
 ],
 "metadata": {
  "kernelspec": {
   "display_name": "Python 3 (ipykernel)",
   "language": "python",
   "name": "python3"
  },
  "language_info": {
   "codemirror_mode": {
    "name": "ipython",
    "version": 3
   },
   "file_extension": ".py",
   "mimetype": "text/x-python",
   "name": "python",
   "nbconvert_exporter": "python",
   "pygments_lexer": "ipython3",
   "version": "3.9.2"
  }
 },
 "nbformat": 4,
 "nbformat_minor": 4
}